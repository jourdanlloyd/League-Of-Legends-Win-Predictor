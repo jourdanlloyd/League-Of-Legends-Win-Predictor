{
 "cells": [
  {
   "cell_type": "markdown",
   "id": "1e266a39",
   "metadata": {},
   "source": [
    "# Overview\n",
    "\n",
    "League of Legends is a game I have been playing for over 13 years. \n",
    "\n",
    "It is a MOBA(multiplayer online battle arena) where 10 split up into teams of 5 and attempt to destroy the enemy team's base. The base is made up of 3 outer towers, 3 middle towers, 3 inner towers, 2 inhibitors, 2 nexus towers, and the final target which is the nexus. \n",
    "\n",
    "Each person on a team has to select a champion and a role which determines where they go on the map. "
   ]
  },
  {
   "cell_type": "markdown",
   "id": "fbeae0db",
   "metadata": {},
   "source": [
    "## Problem Framing and Big Picture\n",
    "\n",
    "In this project I will be taking a data-driven approach to analyze this data set and predict champion Win % based on Name, Class, Role, Tier, Score, Trand, Role, Pick %, Ban %, and KDA. I will take you through the steps of Getting the Data, Exploring the Data, Preparing the Data, and then using various Models to determine which is the best at predicting the target. \n",
    "\n",
    "I will be using a regression task to predict the Win % by using a model to predict the Win %. The performance of my model will be evaluted with cross validation and neg mean squared error. "
   ]
  },
  {
   "cell_type": "markdown",
   "id": "4dd50b5f",
   "metadata": {},
   "source": [
    "## Get the Data\n",
    "\n",
    "This data set comes from Kaggle. \n",
    "Here is the link for anyone interested: https://www.kaggle.com/datasets/vivovinco/league-of-legends-stats-s13\n",
    "\n",
    "### List of features\n",
    "\n",
    "1. Name: Name of the champion\n",
    "2. Class: Champion's type (Fighter, Assassin, Mage, Marksman, Support, Tank)\n",
    "3. Role: Champion's location (Top, Mid, ADC, Support, Jungle)\n",
    "4. Tier: How good the champion is (God, S, A, B, C, D)\n",
    "5. Score: Overall champion score\n",
    "6. Trend: Trend of the score\n",
    "8. Win %: Champion win rate\n",
    "9. Role %: Role rate is played with champion\n",
    "10. Pick %: Champion pick rate\n",
    "11. Ban %: Champion ban rate\n",
    "12. KDA: (Kill+Death)/Assists ratio. \n",
    "\n",
    "### Target\n",
    "\n",
    "I will be predicting Win %"
   ]
  },
  {
   "cell_type": "markdown",
   "id": "eede6112",
   "metadata": {},
   "source": [
    "### Importing Data "
   ]
  },
  {
   "cell_type": "code",
   "execution_count": 25,
   "id": "85c3b2f3",
   "metadata": {},
   "outputs": [],
   "source": [
    "import numpy as np\n",
    "import pandas as pd"
   ]
  },
  {
   "cell_type": "code",
   "execution_count": 31,
   "id": "466e642f",
   "metadata": {},
   "outputs": [
    {
     "data": {
      "text/html": [
       "<div>\n",
       "<style scoped>\n",
       "    .dataframe tbody tr th:only-of-type {\n",
       "        vertical-align: middle;\n",
       "    }\n",
       "\n",
       "    .dataframe tbody tr th {\n",
       "        vertical-align: top;\n",
       "    }\n",
       "\n",
       "    .dataframe thead th {\n",
       "        text-align: right;\n",
       "    }\n",
       "</style>\n",
       "<table border=\"1\" class=\"dataframe\">\n",
       "  <thead>\n",
       "    <tr style=\"text-align: right;\">\n",
       "      <th></th>\n",
       "      <th>Name;Class;Role;Tier;Score;Trend;Win %;Role %;Pick %;Ban %;KDA</th>\n",
       "    </tr>\n",
       "  </thead>\n",
       "  <tbody>\n",
       "    <tr>\n",
       "      <th>0</th>\n",
       "      <td>Aatrox;Fighter;TOP;God;71.25;-3.39;48.84%;92.2...</td>\n",
       "    </tr>\n",
       "    <tr>\n",
       "      <th>1</th>\n",
       "      <td>Ahri;Mage;MID;God;77.12;-5.03;50.90%;95.23%;10...</td>\n",
       "    </tr>\n",
       "    <tr>\n",
       "      <th>2</th>\n",
       "      <td>Akali;Assassin;MID;A;55.37;-5.08;48.18%;78.45%...</td>\n",
       "    </tr>\n",
       "    <tr>\n",
       "      <th>3</th>\n",
       "      <td>Akali;Assassin;TOP;C;36.35;-0.6;48.50%;20.39%;...</td>\n",
       "    </tr>\n",
       "    <tr>\n",
       "      <th>4</th>\n",
       "      <td>Akshan;Marksman;MID;B;47.25;-1.5;50.15%;69.32%...</td>\n",
       "    </tr>\n",
       "    <tr>\n",
       "      <th>...</th>\n",
       "      <td>...</td>\n",
       "    </tr>\n",
       "    <tr>\n",
       "      <th>242</th>\n",
       "      <td>Zilean;Support;MID;A;52.02;4.9;53.91%;13.72%;0...</td>\n",
       "    </tr>\n",
       "    <tr>\n",
       "      <th>243</th>\n",
       "      <td>Zilean;Support;SUPPORT;B;45.21;1.15;50.12%;82....</td>\n",
       "    </tr>\n",
       "    <tr>\n",
       "      <th>244</th>\n",
       "      <td>Zoe;Mage;MID;A;49.82;1.34;50.44%;86.34%;2.98%;...</td>\n",
       "    </tr>\n",
       "    <tr>\n",
       "      <th>245</th>\n",
       "      <td>Zoe;Mage;SUPPORT;D;32.21;-1.45;48.67%;11.43%;0...</td>\n",
       "    </tr>\n",
       "    <tr>\n",
       "      <th>246</th>\n",
       "      <td>Zyra;Mage;SUPPORT;B;46.64;-0.95;51.44%;90.88%;...</td>\n",
       "    </tr>\n",
       "  </tbody>\n",
       "</table>\n",
       "<p>247 rows × 1 columns</p>\n",
       "</div>"
      ],
      "text/plain": [
       "    Name;Class;Role;Tier;Score;Trend;Win %;Role %;Pick %;Ban %;KDA\n",
       "0    Aatrox;Fighter;TOP;God;71.25;-3.39;48.84%;92.2...            \n",
       "1    Ahri;Mage;MID;God;77.12;-5.03;50.90%;95.23%;10...            \n",
       "2    Akali;Assassin;MID;A;55.37;-5.08;48.18%;78.45%...            \n",
       "3    Akali;Assassin;TOP;C;36.35;-0.6;48.50%;20.39%;...            \n",
       "4    Akshan;Marksman;MID;B;47.25;-1.5;50.15%;69.32%...            \n",
       "..                                                 ...            \n",
       "242  Zilean;Support;MID;A;52.02;4.9;53.91%;13.72%;0...            \n",
       "243  Zilean;Support;SUPPORT;B;45.21;1.15;50.12%;82....            \n",
       "244  Zoe;Mage;MID;A;49.82;1.34;50.44%;86.34%;2.98%;...            \n",
       "245  Zoe;Mage;SUPPORT;D;32.21;-1.45;48.67%;11.43%;0...            \n",
       "246  Zyra;Mage;SUPPORT;B;46.64;-0.95;51.44%;90.88%;...            \n",
       "\n",
       "[247 rows x 1 columns]"
      ]
     },
     "execution_count": 31,
     "metadata": {},
     "output_type": "execute_result"
    }
   ],
   "source": [
    "#making a path to import the data\n",
    "\n",
    "path =  r'D:\\League of Legends Champion Stats 13.13.csv'\n",
    "league = pd.read_csv(path)\n",
    "\n",
    "#checking the output\n",
    "\n",
    "league\n",
    "\n",
    "#it is very hard to read. the columns are separated by ;s"
   ]
  },
  {
   "cell_type": "code",
   "execution_count": 32,
   "id": "3bae8830",
   "metadata": {},
   "outputs": [
    {
     "data": {
      "text/html": [
       "<div>\n",
       "<style scoped>\n",
       "    .dataframe tbody tr th:only-of-type {\n",
       "        vertical-align: middle;\n",
       "    }\n",
       "\n",
       "    .dataframe tbody tr th {\n",
       "        vertical-align: top;\n",
       "    }\n",
       "\n",
       "    .dataframe thead th {\n",
       "        text-align: right;\n",
       "    }\n",
       "</style>\n",
       "<table border=\"1\" class=\"dataframe\">\n",
       "  <thead>\n",
       "    <tr style=\"text-align: right;\">\n",
       "      <th></th>\n",
       "      <th>Name</th>\n",
       "      <th>Class</th>\n",
       "      <th>Role</th>\n",
       "      <th>Tier</th>\n",
       "      <th>Score</th>\n",
       "      <th>Trend</th>\n",
       "      <th>Win %</th>\n",
       "      <th>Role %</th>\n",
       "      <th>Pick %</th>\n",
       "      <th>Ban %</th>\n",
       "      <th>KDA</th>\n",
       "    </tr>\n",
       "  </thead>\n",
       "  <tbody>\n",
       "    <tr>\n",
       "      <th>0</th>\n",
       "      <td>Aatrox</td>\n",
       "      <td>Fighter</td>\n",
       "      <td>TOP</td>\n",
       "      <td>God</td>\n",
       "      <td>71.25</td>\n",
       "      <td>-3.39</td>\n",
       "      <td>48.84%</td>\n",
       "      <td>92.28%</td>\n",
       "      <td>7.01%</td>\n",
       "      <td>5.81%</td>\n",
       "      <td>1.85</td>\n",
       "    </tr>\n",
       "    <tr>\n",
       "      <th>1</th>\n",
       "      <td>Ahri</td>\n",
       "      <td>Mage</td>\n",
       "      <td>MID</td>\n",
       "      <td>God</td>\n",
       "      <td>77.12</td>\n",
       "      <td>-5.03</td>\n",
       "      <td>50.90%</td>\n",
       "      <td>95.23%</td>\n",
       "      <td>10.63%</td>\n",
       "      <td>6.47%</td>\n",
       "      <td>2.63</td>\n",
       "    </tr>\n",
       "    <tr>\n",
       "      <th>2</th>\n",
       "      <td>Akali</td>\n",
       "      <td>Assassin</td>\n",
       "      <td>MID</td>\n",
       "      <td>A</td>\n",
       "      <td>55.37</td>\n",
       "      <td>-5.08</td>\n",
       "      <td>48.18%</td>\n",
       "      <td>78.45%</td>\n",
       "      <td>5.99%</td>\n",
       "      <td>8.10%</td>\n",
       "      <td>2.30</td>\n",
       "    </tr>\n",
       "    <tr>\n",
       "      <th>3</th>\n",
       "      <td>Akali</td>\n",
       "      <td>Assassin</td>\n",
       "      <td>TOP</td>\n",
       "      <td>C</td>\n",
       "      <td>36.35</td>\n",
       "      <td>-0.60</td>\n",
       "      <td>48.50%</td>\n",
       "      <td>20.39%</td>\n",
       "      <td>1.45%</td>\n",
       "      <td>8.10%</td>\n",
       "      <td>2.06</td>\n",
       "    </tr>\n",
       "    <tr>\n",
       "      <th>4</th>\n",
       "      <td>Akshan</td>\n",
       "      <td>Marksman</td>\n",
       "      <td>MID</td>\n",
       "      <td>B</td>\n",
       "      <td>47.25</td>\n",
       "      <td>-1.50</td>\n",
       "      <td>50.15%</td>\n",
       "      <td>69.32%</td>\n",
       "      <td>2.88%</td>\n",
       "      <td>5.94%</td>\n",
       "      <td>2.16</td>\n",
       "    </tr>\n",
       "    <tr>\n",
       "      <th>...</th>\n",
       "      <td>...</td>\n",
       "      <td>...</td>\n",
       "      <td>...</td>\n",
       "      <td>...</td>\n",
       "      <td>...</td>\n",
       "      <td>...</td>\n",
       "      <td>...</td>\n",
       "      <td>...</td>\n",
       "      <td>...</td>\n",
       "      <td>...</td>\n",
       "      <td>...</td>\n",
       "    </tr>\n",
       "    <tr>\n",
       "      <th>242</th>\n",
       "      <td>Zilean</td>\n",
       "      <td>Support</td>\n",
       "      <td>MID</td>\n",
       "      <td>A</td>\n",
       "      <td>52.02</td>\n",
       "      <td>4.90</td>\n",
       "      <td>53.91%</td>\n",
       "      <td>13.72%</td>\n",
       "      <td>0.31%</td>\n",
       "      <td>0.76%</td>\n",
       "      <td>3.52</td>\n",
       "    </tr>\n",
       "    <tr>\n",
       "      <th>243</th>\n",
       "      <td>Zilean</td>\n",
       "      <td>Support</td>\n",
       "      <td>SUPPORT</td>\n",
       "      <td>B</td>\n",
       "      <td>45.21</td>\n",
       "      <td>1.15</td>\n",
       "      <td>50.12%</td>\n",
       "      <td>82.08%</td>\n",
       "      <td>2.11%</td>\n",
       "      <td>0.76%</td>\n",
       "      <td>3.03</td>\n",
       "    </tr>\n",
       "    <tr>\n",
       "      <th>244</th>\n",
       "      <td>Zoe</td>\n",
       "      <td>Mage</td>\n",
       "      <td>MID</td>\n",
       "      <td>A</td>\n",
       "      <td>49.82</td>\n",
       "      <td>1.34</td>\n",
       "      <td>50.44%</td>\n",
       "      <td>86.34%</td>\n",
       "      <td>2.98%</td>\n",
       "      <td>1.93%</td>\n",
       "      <td>2.60</td>\n",
       "    </tr>\n",
       "    <tr>\n",
       "      <th>245</th>\n",
       "      <td>Zoe</td>\n",
       "      <td>Mage</td>\n",
       "      <td>SUPPORT</td>\n",
       "      <td>D</td>\n",
       "      <td>32.21</td>\n",
       "      <td>-1.45</td>\n",
       "      <td>48.67%</td>\n",
       "      <td>11.43%</td>\n",
       "      <td>0.40%</td>\n",
       "      <td>1.97%</td>\n",
       "      <td>2.11</td>\n",
       "    </tr>\n",
       "    <tr>\n",
       "      <th>246</th>\n",
       "      <td>Zyra</td>\n",
       "      <td>Mage</td>\n",
       "      <td>SUPPORT</td>\n",
       "      <td>B</td>\n",
       "      <td>46.64</td>\n",
       "      <td>-0.95</td>\n",
       "      <td>51.44%</td>\n",
       "      <td>90.88%</td>\n",
       "      <td>2.87%</td>\n",
       "      <td>1.96%</td>\n",
       "      <td>2.06</td>\n",
       "    </tr>\n",
       "  </tbody>\n",
       "</table>\n",
       "<p>247 rows × 11 columns</p>\n",
       "</div>"
      ],
      "text/plain": [
       "       Name     Class     Role Tier  Score  Trend   Win %  Role %  Pick %  \\\n",
       "0    Aatrox   Fighter      TOP  God  71.25  -3.39  48.84%  92.28%   7.01%   \n",
       "1      Ahri      Mage      MID  God  77.12  -5.03  50.90%  95.23%  10.63%   \n",
       "2     Akali  Assassin      MID    A  55.37  -5.08  48.18%  78.45%   5.99%   \n",
       "3     Akali  Assassin      TOP    C  36.35  -0.60  48.50%  20.39%   1.45%   \n",
       "4    Akshan  Marksman      MID    B  47.25  -1.50  50.15%  69.32%   2.88%   \n",
       "..      ...       ...      ...  ...    ...    ...     ...     ...     ...   \n",
       "242  Zilean   Support      MID    A  52.02   4.90  53.91%  13.72%   0.31%   \n",
       "243  Zilean   Support  SUPPORT    B  45.21   1.15  50.12%  82.08%   2.11%   \n",
       "244     Zoe      Mage      MID    A  49.82   1.34  50.44%  86.34%   2.98%   \n",
       "245     Zoe      Mage  SUPPORT    D  32.21  -1.45  48.67%  11.43%   0.40%   \n",
       "246    Zyra      Mage  SUPPORT    B  46.64  -0.95  51.44%  90.88%   2.87%   \n",
       "\n",
       "     Ban %   KDA  \n",
       "0    5.81%  1.85  \n",
       "1    6.47%  2.63  \n",
       "2    8.10%  2.30  \n",
       "3    8.10%  2.06  \n",
       "4    5.94%  2.16  \n",
       "..     ...   ...  \n",
       "242  0.76%  3.52  \n",
       "243  0.76%  3.03  \n",
       "244  1.93%  2.60  \n",
       "245  1.97%  2.11  \n",
       "246  1.96%  2.06  \n",
       "\n",
       "[247 rows x 11 columns]"
      ]
     },
     "execution_count": 32,
     "metadata": {},
     "output_type": "execute_result"
    }
   ],
   "source": [
    "#loaded the dataset again but separated the columns based on the ;\n",
    "\n",
    "league_fixed = pd.read_csv(path, sep = ';')\n",
    "\n",
    "#checking to make sure that the columns have been fixed\n",
    "\n",
    "league_fixed"
   ]
  },
  {
   "cell_type": "markdown",
   "id": "af57d11c",
   "metadata": {},
   "source": [
    "### Data Size and Type "
   ]
  },
  {
   "cell_type": "code",
   "execution_count": 33,
   "id": "75156e15",
   "metadata": {},
   "outputs": [
    {
     "name": "stdout",
     "output_type": "stream",
     "text": [
      "<class 'pandas.core.frame.DataFrame'>\n",
      "RangeIndex: 247 entries, 0 to 246\n",
      "Data columns (total 11 columns):\n",
      " #   Column  Non-Null Count  Dtype  \n",
      "---  ------  --------------  -----  \n",
      " 0   Name    247 non-null    object \n",
      " 1   Class   247 non-null    object \n",
      " 2   Role    247 non-null    object \n",
      " 3   Tier    247 non-null    object \n",
      " 4   Score   247 non-null    float64\n",
      " 5   Trend   247 non-null    float64\n",
      " 6   Win %   247 non-null    object \n",
      " 7   Role %  247 non-null    object \n",
      " 8   Pick %  247 non-null    object \n",
      " 9   Ban %   247 non-null    object \n",
      " 10  KDA     247 non-null    float64\n",
      "dtypes: float64(3), object(8)\n",
      "memory usage: 21.4+ KB\n"
     ]
    }
   ],
   "source": [
    "#checking the size and type of the data\n",
    "\n",
    "league_info = league_fixed.info()\n",
    "\n",
    "#checking the output \n",
    "\n",
    "league_info"
   ]
  },
  {
   "cell_type": "code",
   "execution_count": 43,
   "id": "aa492fc6",
   "metadata": {},
   "outputs": [],
   "source": [
    "#some of the columns with numerical values are objects \n",
    "#converting to floats\n",
    "\n",
    "convert_cols = ['Win %', 'Role %', 'Pick %', 'Ban %']\n",
    "\n",
    "league_fixed[convert_cols] = league_fixed[convert_cols].replace('%', '',\n",
    "                                                               regex = True).astype(float)"
   ]
  },
  {
   "cell_type": "markdown",
   "id": "6df57745",
   "metadata": {},
   "source": [
    "### Data Splitting"
   ]
  },
  {
   "cell_type": "code",
   "execution_count": 44,
   "id": "b31ae76f",
   "metadata": {},
   "outputs": [],
   "source": [
    "#separate the target from the rest of the data \n",
    "\n",
    "features = league_fixed.drop('Win %', axis = 1)\n",
    "\n",
    "target = league_fixed['Win %']"
   ]
  },
  {
   "cell_type": "code",
   "execution_count": 45,
   "id": "15570027",
   "metadata": {},
   "outputs": [],
   "source": [
    "#splitting the data into a test and train sets\n",
    "\n",
    "from sklearn.model_selection import train_test_split\n",
    "\n",
    "#80% of the data will be for training and 20% for testing\n",
    "#42 random state allows reproducibility \n",
    "\n",
    "X_train, X_test, y_train, y_test = train_test_split(features, target,\n",
    "                                                   test_size = 0.2,\n",
    "                                                   random_state = 42)"
   ]
  },
  {
   "cell_type": "markdown",
   "id": "11fe5284",
   "metadata": {},
   "source": [
    "## Data Exploration\n",
    "\n",
    "This section will involve some exploration into the dataset. "
   ]
  },
  {
   "cell_type": "markdown",
   "id": "45fac6cb",
   "metadata": {},
   "source": [
    "### Attribute Characteristics\n",
    "\n",
    "I will be studying the characteristics of the numerical and categorical data."
   ]
  },
  {
   "cell_type": "markdown",
   "id": "b0f5aaf2",
   "metadata": {},
   "source": [
    "#### Numerical Data"
   ]
  },
  {
   "cell_type": "code",
   "execution_count": 46,
   "id": "2e7de8ad",
   "metadata": {},
   "outputs": [
    {
     "data": {
      "text/html": [
       "<div>\n",
       "<style scoped>\n",
       "    .dataframe tbody tr th:only-of-type {\n",
       "        vertical-align: middle;\n",
       "    }\n",
       "\n",
       "    .dataframe tbody tr th {\n",
       "        vertical-align: top;\n",
       "    }\n",
       "\n",
       "    .dataframe thead th {\n",
       "        text-align: right;\n",
       "    }\n",
       "</style>\n",
       "<table border=\"1\" class=\"dataframe\">\n",
       "  <thead>\n",
       "    <tr style=\"text-align: right;\">\n",
       "      <th></th>\n",
       "      <th>Score</th>\n",
       "      <th>Trend</th>\n",
       "      <th>Role %</th>\n",
       "      <th>Pick %</th>\n",
       "      <th>Ban %</th>\n",
       "      <th>KDA</th>\n",
       "    </tr>\n",
       "  </thead>\n",
       "  <tbody>\n",
       "    <tr>\n",
       "      <th>count</th>\n",
       "      <td>197.000000</td>\n",
       "      <td>197.000000</td>\n",
       "      <td>197.000000</td>\n",
       "      <td>197.000000</td>\n",
       "      <td>197.000000</td>\n",
       "      <td>197.000000</td>\n",
       "    </tr>\n",
       "    <tr>\n",
       "      <th>mean</th>\n",
       "      <td>49.866142</td>\n",
       "      <td>-0.178173</td>\n",
       "      <td>59.149695</td>\n",
       "      <td>3.836294</td>\n",
       "      <td>5.311168</td>\n",
       "      <td>2.281878</td>\n",
       "    </tr>\n",
       "    <tr>\n",
       "      <th>std</th>\n",
       "      <td>14.303269</td>\n",
       "      <td>4.877184</td>\n",
       "      <td>33.250034</td>\n",
       "      <td>3.771420</td>\n",
       "      <td>5.693125</td>\n",
       "      <td>0.406915</td>\n",
       "    </tr>\n",
       "    <tr>\n",
       "      <th>min</th>\n",
       "      <td>20.780000</td>\n",
       "      <td>-23.490000</td>\n",
       "      <td>10.070000</td>\n",
       "      <td>0.140000</td>\n",
       "      <td>0.180000</td>\n",
       "      <td>1.320000</td>\n",
       "    </tr>\n",
       "    <tr>\n",
       "      <th>25%</th>\n",
       "      <td>40.100000</td>\n",
       "      <td>-2.150000</td>\n",
       "      <td>20.390000</td>\n",
       "      <td>1.120000</td>\n",
       "      <td>1.360000</td>\n",
       "      <td>1.990000</td>\n",
       "    </tr>\n",
       "    <tr>\n",
       "      <th>50%</th>\n",
       "      <td>47.230000</td>\n",
       "      <td>0.010000</td>\n",
       "      <td>71.730000</td>\n",
       "      <td>2.870000</td>\n",
       "      <td>3.140000</td>\n",
       "      <td>2.250000</td>\n",
       "    </tr>\n",
       "    <tr>\n",
       "      <th>75%</th>\n",
       "      <td>56.430000</td>\n",
       "      <td>2.210000</td>\n",
       "      <td>89.550000</td>\n",
       "      <td>5.100000</td>\n",
       "      <td>5.980000</td>\n",
       "      <td>2.550000</td>\n",
       "    </tr>\n",
       "    <tr>\n",
       "      <th>max</th>\n",
       "      <td>92.980000</td>\n",
       "      <td>13.940000</td>\n",
       "      <td>99.390000</td>\n",
       "      <td>28.670000</td>\n",
       "      <td>23.800000</td>\n",
       "      <td>3.580000</td>\n",
       "    </tr>\n",
       "  </tbody>\n",
       "</table>\n",
       "</div>"
      ],
      "text/plain": [
       "            Score       Trend      Role %      Pick %       Ban %         KDA\n",
       "count  197.000000  197.000000  197.000000  197.000000  197.000000  197.000000\n",
       "mean    49.866142   -0.178173   59.149695    3.836294    5.311168    2.281878\n",
       "std     14.303269    4.877184   33.250034    3.771420    5.693125    0.406915\n",
       "min     20.780000  -23.490000   10.070000    0.140000    0.180000    1.320000\n",
       "25%     40.100000   -2.150000   20.390000    1.120000    1.360000    1.990000\n",
       "50%     47.230000    0.010000   71.730000    2.870000    3.140000    2.250000\n",
       "75%     56.430000    2.210000   89.550000    5.100000    5.980000    2.550000\n",
       "max     92.980000   13.940000   99.390000   28.670000   23.800000    3.580000"
      ]
     },
     "execution_count": 46,
     "metadata": {},
     "output_type": "execute_result"
    }
   ],
   "source": [
    "#checking the statistics of the numerical data\n",
    "\n",
    "X_train.describe()"
   ]
  },
  {
   "cell_type": "markdown",
   "id": "01fc0641",
   "metadata": {},
   "source": [
    "1. Count: The total number of values in each column. Does not include null values.\n",
    "2. Mean: The average per column. Trend has a negative average meaning there is a decrease over time. \n",
    "3. STD: The vartion in a set of values. The higher, the more spread out the values are.\n",
    "4. Min: The lowest value\n",
    "5. 25%: First Quartile indicating where 25% of the data is.\n",
    "6. 50%: Middle indicating the split of the dat.\n",
    "7. 75%: Third Quartile indicatiing where 75% of the data is. \n",
    "8. Max: The highst value"
   ]
  },
  {
   "cell_type": "markdown",
   "id": "2112dc60",
   "metadata": {},
   "source": [
    "#### Categorical Data"
   ]
  },
  {
   "cell_type": "code",
   "execution_count": 47,
   "id": "a726d296",
   "metadata": {},
   "outputs": [
    {
     "name": "stdout",
     "output_type": "stream",
     "text": [
      "Totals for Name:\n",
      "Veigar      0.015228\n",
      "Rumble      0.015228\n",
      "Pantheon    0.015228\n",
      "Ziggs       0.015228\n",
      "Karthus     0.015228\n",
      "              ...   \n",
      "Orianna     0.005076\n",
      "Karma       0.005076\n",
      "Aatrox      0.005076\n",
      "Rek'Sai     0.005076\n",
      "Sylas       0.005076\n",
      "Name: Name, Length: 134, dtype: float64\n",
      "\n",
      "Totals for Class:\n",
      "Fighter     0.304569\n",
      "Mage        0.233503\n",
      "Tank        0.157360\n",
      "Marksman    0.142132\n",
      "Assassin    0.106599\n",
      "Support     0.055838\n",
      "Name: Class, dtype: float64\n",
      "\n",
      "Totals for Role:\n",
      "TOP        0.269036\n",
      "MID        0.243655\n",
      "JUNGLE     0.192893\n",
      "SUPPORT    0.177665\n",
      "ADC        0.116751\n",
      "Name: Role, dtype: float64\n",
      "\n",
      "Totals for Tier:\n",
      "B      0.279188\n",
      "A      0.233503\n",
      "S      0.147208\n",
      "C      0.137056\n",
      "D      0.101523\n",
      "God    0.101523\n",
      "Name: Tier, dtype: float64\n",
      "\n"
     ]
    }
   ],
   "source": [
    "#indicating the categorical columns to analyze \n",
    "\n",
    "cat_cols = X_train.select_dtypes(include = 'object')\n",
    "\n",
    "#using a function that will provide the value counts for categorical columns\n",
    "\n",
    "def value_counts (categorical):\n",
    "    for column in categorical.columns:\n",
    "        print(f\"Totals for {column}:\\n{categorical[column].value_counts(normalize = True)}\\n\")\n",
    "        \n",
    "#passing the cat_cols to the function\n",
    "        \n",
    "value_counts(cat_cols)"
   ]
  },
  {
   "cell_type": "markdown",
   "id": "d4593364",
   "metadata": {},
   "source": [
    "Each category is sorted from highest to lowest. For name, there are different values because some names appear more than once. This is because some champions are suitable for different roles and were listed more than once."
   ]
  },
  {
   "cell_type": "markdown",
   "id": "1d338032",
   "metadata": {},
   "source": [
    "### Visuals"
   ]
  },
  {
   "cell_type": "code",
   "execution_count": 49,
   "id": "bfa8e913",
   "metadata": {},
   "outputs": [],
   "source": [
    "import matplotlib.pyplot as plt\n",
    "import seaborn as sns"
   ]
  },
  {
   "cell_type": "code",
   "execution_count": 59,
   "id": "1b8622fa",
   "metadata": {},
   "outputs": [
    {
     "data": {
      "image/png": "[encoded data removed]",
      "text/plain": [
       "<Figure size 640x480 with 1 Axes>"
      ]
     },
     "metadata": {},
     "output_type": "display_data"
    }
   ],
   "source": [
    "#Graphing the distributioin of Win %\n",
    "\n",
    "sns.histplot(league_fixed['Win %'], bins = 20, color ='red')\n",
    "plt.title('Win % Distribution')\n",
    "plt.xlabel('Win %')\n",
    "plt.show()"
   ]
  },
  {
   "cell_type": "code",
   "execution_count": 61,
   "id": "8a14ac3c",
   "metadata": {},
   "outputs": [
    {
     "data": {
      "image/png": "[encoded data removed]",
      "text/plain": [
       "<Figure size 640x480 with 1 Axes>"
      ]
     },
     "metadata": {},
     "output_type": "display_data"
    }
   ],
   "source": [
    "#Graphing the Win % by Role\n",
    "\n",
    "sns.barplot(x = 'Role', y = 'Win %' , data = league_fixed)\n",
    "plt.title('Win % by Role')\n",
    "plt.xticks(rotation = 45, ha= 'right')\n",
    "plt.show()"
   ]
  },
  {
   "cell_type": "code",
   "execution_count": 64,
   "id": "79ff923a",
   "metadata": {},
   "outputs": [
    {
     "data": {
      "image/png": "[encoded data removed]",
      "text/plain": [
       "<Figure size 640x480 with 1 Axes>"
      ]
     },
     "metadata": {},
     "output_type": "display_data"
    }
   ],
   "source": [
    "#Making a boxplot to show Win % across Tiers \n",
    "\n",
    "sns.boxplot(x = 'Tier' , y = 'Win %', data = league_fixed)\n",
    "plt.title('Win % by Tier')\n",
    "plt.show()"
   ]
  },
  {
   "cell_type": "code",
   "execution_count": 65,
   "id": "9ed2ad9f",
   "metadata": {},
   "outputs": [
    {
     "data": {
      "image/png": "[encoded data removed]",
      "text/plain": [
       "<Figure size 640x480 with 1 Axes>"
      ]
     },
     "metadata": {},
     "output_type": "display_data"
    }
   ],
   "source": [
    "#Scatterplot to show the relationship of Win % and KDA\n",
    "\n",
    "sns.scatterplot (x = 'Win %' , y = 'KDA', data = league_fixed, color = 'red')\n",
    "plt.title('Win % by KDA')\n",
    "plt.xlabel('Win %')\n",
    "plt.ylabel('KDA')\n",
    "plt.show()"
   ]
  },
  {
   "cell_type": "markdown",
   "id": "c519b896",
   "metadata": {},
   "source": [
    "### Correlations\n",
    "\n",
    "I will check and see if there are any correlations between discrete and continuous attributes."
   ]
  },
  {
   "cell_type": "code",
   "execution_count": 67,
   "id": "3b9f5fb0",
   "metadata": {},
   "outputs": [
    {
     "data": {
      "text/plain": [
       "Win %     1.000000\n",
       "Trend     0.296357\n",
       "KDA       0.275386\n",
       "Score     0.233733\n",
       "Role %    0.001105\n",
       "Pick %   -0.054927\n",
       "Ban %    -0.079649\n",
       "Name: Win %, dtype: float64"
      ]
     },
     "execution_count": 67,
     "metadata": {},
     "output_type": "execute_result"
    }
   ],
   "source": [
    "#separating the numerical data\n",
    "\n",
    "continuous = ['Score', 'Trend', 'Win %', 'Role %', 'Pick %', 'Ban %', 'KDA']\n",
    "\n",
    "#create a correlation matrix \n",
    "\n",
    "matrix = league_fixed[continuous].corr()\n",
    "\n",
    "#check correlation in relation to Win %, which is our target\n",
    "#ranking it from greatest to least\n",
    "\n",
    "matrix['Win %'].sort_values(ascending = False)"
   ]
  },
  {
   "cell_type": "markdown",
   "id": "a56428f1",
   "metadata": {},
   "source": [
    "There is a positive correlation between all of the values besides Pick % and Ban %. The correlations are very low in both directions. "
   ]
  },
  {
   "cell_type": "markdown",
   "id": "cf6cfa65",
   "metadata": {},
   "source": [
    "## Preparing Data \n",
    "\n",
    "Getting the data ready for machine learning"
   ]
  },
  {
   "cell_type": "code",
   "execution_count": 70,
   "id": "a830481a",
   "metadata": {},
   "outputs": [
    {
     "data": {
      "text/plain": [
       "Name      0\n",
       "Class     0\n",
       "Role      0\n",
       "Tier      0\n",
       "Score     0\n",
       "Trend     0\n",
       "Win %     0\n",
       "Role %    0\n",
       "Pick %    0\n",
       "Ban %     0\n",
       "KDA       0\n",
       "dtype: int64"
      ]
     },
     "execution_count": 70,
     "metadata": {},
     "output_type": "execute_result"
    }
   ],
   "source": [
    "#Checking the data for missing values\n",
    "\n",
    "missing = league_fixed.isnull().sum()\n",
    "missing"
   ]
  },
  {
   "cell_type": "markdown",
   "id": "80e19c96",
   "metadata": {},
   "source": [
    "### Preprocessing"
   ]
  },
  {
   "cell_type": "code",
   "execution_count": 132,
   "id": "e13a0248",
   "metadata": {},
   "outputs": [],
   "source": [
    "from sklearn.compose import ColumnTransformer\n",
    "from sklearn.preprocessing import StandardScaler, OneHotEncoder\n",
    "\n",
    "#Separate continuous and categorical into separate lists\n",
    "\n",
    "numerical =['Score', 'Trend', 'Role %', 'Pick %', 'Ban %', 'KDA']\n",
    "\n",
    "categorical = ['Name', 'Class', 'Role', 'Tier']\n",
    "\n",
    "#Identify the transformers that we will use on the data \n",
    "#Numerical Data will be put through a StandardScaler\n",
    "#Categorical Data will be put through a OneHotEncoder\n",
    "\n",
    "cont_trans = StandardScaler()\n",
    "cat_trans = OneHotEncoder(drop = 'first', sparse = False, handle_unknown = 'ignore')"
   ]
  },
  {
   "cell_type": "code",
   "execution_count": 133,
   "id": "dfe97a84",
   "metadata": {},
   "outputs": [],
   "source": [
    "#Use a column transformer to process the data\n",
    "\n",
    "preprocessor = ColumnTransformer(transformers = [\n",
    "    ('numeric', cont_trans, numerical),\n",
    "    ('categorical', cat_trans, categorical)])"
   ]
  },
  {
   "cell_type": "markdown",
   "id": "918bab42",
   "metadata": {},
   "source": [
    "### Transform the Train Set"
   ]
  },
  {
   "cell_type": "code",
   "execution_count": 134,
   "id": "8da8ee98",
   "metadata": {},
   "outputs": [
    {
     "name": "stderr",
     "output_type": "stream",
     "text": [
      "D:\\Anaconda\\lib\\site-packages\\sklearn\\preprocessing\\_encoders.py:975: FutureWarning: `sparse` was renamed to `sparse_output` in version 1.2 and will be removed in 1.4. `sparse_output` is ignored unless you leave `sparse` to its default value.\n",
      "  warnings.warn(\n"
     ]
    },
    {
     "data": {
      "text/plain": [
       "array([[ 3.07409502e-03,  6.94412923e-01,  8.05966312e-01, ...,\n",
       "         0.00000000e+00,  0.00000000e+00,  0.00000000e+00],\n",
       "       [-5.99018013e-01,  3.55240991e-01,  1.94789694e-01, ...,\n",
       "         0.00000000e+00,  0.00000000e+00,  0.00000000e+00],\n",
       "       [-3.59302645e-01, -4.13548721e-01, -6.60616357e-01, ...,\n",
       "         0.00000000e+00,  0.00000000e+00,  0.00000000e+00],\n",
       "       ...,\n",
       "       [ 1.13225964e+00, -4.47333397e+00,  9.35618974e-01, ...,\n",
       "         0.00000000e+00,  0.00000000e+00,  1.00000000e+00],\n",
       "       [-7.30791373e-01, -7.02656142e-02, -8.72281866e-01, ...,\n",
       "         0.00000000e+00,  0.00000000e+00,  0.00000000e+00],\n",
       "       [-2.06501621e-01, -2.36768199e-01, -1.41290331e+00, ...,\n",
       "         0.00000000e+00,  0.00000000e+00,  0.00000000e+00]])"
      ]
     },
     "execution_count": 134,
     "metadata": {},
     "output_type": "execute_result"
    }
   ],
   "source": [
    "#Fitting and transforming the train data with the Transformer\n",
    "\n",
    "X_train_transformed = preprocessor.fit_transform(X_train)\n",
    "X_train_transformed"
   ]
  },
  {
   "cell_type": "markdown",
   "id": "17c09652",
   "metadata": {},
   "source": [
    "## Model Use\n",
    "\n",
    "Here I will fit the data to a few models."
   ]
  },
  {
   "cell_type": "code",
   "execution_count": 118,
   "id": "a06170eb",
   "metadata": {},
   "outputs": [
    {
     "data": {
      "text/html": [
       "<style>#sk-container-id-6 {color: black;}#sk-container-id-6 pre{padding: 0;}#sk-container-id-6 div.sk-toggleable {background-color: white;}#sk-container-id-6 label.sk-toggleable__label {cursor: pointer;display: block;width: 100%;margin-bottom: 0;padding: 0.3em;box-sizing: border-box;text-align: center;}#sk-container-id-6 label.sk-toggleable__label-arrow:before {content: \"▸\";float: left;margin-right: 0.25em;color: #696969;}#sk-container-id-6 label.sk-toggleable__label-arrow:hover:before {color: black;}#sk-container-id-6 div.sk-estimator:hover label.sk-toggleable__label-arrow:before {color: black;}#sk-container-id-6 div.sk-toggleable__content {max-height: 0;max-width: 0;overflow: hidden;text-align: left;background-color: #f0f8ff;}#sk-container-id-6 div.sk-toggleable__content pre {margin: 0.2em;color: black;border-radius: 0.25em;background-color: #f0f8ff;}#sk-container-id-6 input.sk-toggleable__control:checked~div.sk-toggleable__content {max-height: 200px;max-width: 100%;overflow: auto;}#sk-container-id-6 input.sk-toggleable__control:checked~label.sk-toggleable__label-arrow:before {content: \"▾\";}#sk-container-id-6 div.sk-estimator input.sk-toggleable__control:checked~label.sk-toggleable__label {background-color: #d4ebff;}#sk-container-id-6 div.sk-label input.sk-toggleable__control:checked~label.sk-toggleable__label {background-color: #d4ebff;}#sk-container-id-6 input.sk-hidden--visually {border: 0;clip: rect(1px 1px 1px 1px);clip: rect(1px, 1px, 1px, 1px);height: 1px;margin: -1px;overflow: hidden;padding: 0;position: absolute;width: 1px;}#sk-container-id-6 div.sk-estimator {font-family: monospace;background-color: #f0f8ff;border: 1px dotted black;border-radius: 0.25em;box-sizing: border-box;margin-bottom: 0.5em;}#sk-container-id-6 div.sk-estimator:hover {background-color: #d4ebff;}#sk-container-id-6 div.sk-parallel-item::after {content: \"\";width: 100%;border-bottom: 1px solid gray;flex-grow: 1;}#sk-container-id-6 div.sk-label:hover label.sk-toggleable__label {background-color: #d4ebff;}#sk-container-id-6 div.sk-serial::before {content: \"\";position: absolute;border-left: 1px solid gray;box-sizing: border-box;top: 0;bottom: 0;left: 50%;z-index: 0;}#sk-container-id-6 div.sk-serial {display: flex;flex-direction: column;align-items: center;background-color: white;padding-right: 0.2em;padding-left: 0.2em;position: relative;}#sk-container-id-6 div.sk-item {position: relative;z-index: 1;}#sk-container-id-6 div.sk-parallel {display: flex;align-items: stretch;justify-content: center;background-color: white;position: relative;}#sk-container-id-6 div.sk-item::before, #sk-container-id-6 div.sk-parallel-item::before {content: \"\";position: absolute;border-left: 1px solid gray;box-sizing: border-box;top: 0;bottom: 0;left: 50%;z-index: -1;}#sk-container-id-6 div.sk-parallel-item {display: flex;flex-direction: column;z-index: 1;position: relative;background-color: white;}#sk-container-id-6 div.sk-parallel-item:first-child::after {align-self: flex-end;width: 50%;}#sk-container-id-6 div.sk-parallel-item:last-child::after {align-self: flex-start;width: 50%;}#sk-container-id-6 div.sk-parallel-item:only-child::after {width: 0;}#sk-container-id-6 div.sk-dashed-wrapped {border: 1px dashed gray;margin: 0 0.4em 0.5em 0.4em;box-sizing: border-box;padding-bottom: 0.4em;background-color: white;}#sk-container-id-6 div.sk-label label {font-family: monospace;font-weight: bold;display: inline-block;line-height: 1.2em;}#sk-container-id-6 div.sk-label-container {text-align: center;}#sk-container-id-6 div.sk-container {/* jupyter's `normalize.less` sets `[hidden] { display: none; }` but bootstrap.min.css set `[hidden] { display: none !important; }` so we also need the `!important` here to be able to override the default hidden behavior on the sphinx rendered scikit-learn.org. See: https://github.com/scikit-learn/scikit-learn/issues/21755 */display: inline-block !important;position: relative;}#sk-container-id-6 div.sk-text-repr-fallback {display: none;}</style><div id=\"sk-container-id-6\" class=\"sk-top-container\"><div class=\"sk-text-repr-fallback\"><pre>LinearRegression()</pre><b>In a Jupyter environment, please rerun this cell to show the HTML representation or trust the notebook. <br />On GitHub, the HTML representation is unable to render, please try loading this page with nbviewer.org.</b></div><div class=\"sk-container\" hidden><div class=\"sk-item\"><div class=\"sk-estimator sk-toggleable\"><input class=\"sk-toggleable__control sk-hidden--visually\" id=\"sk-estimator-id-6\" type=\"checkbox\" checked><label for=\"sk-estimator-id-6\" class=\"sk-toggleable__label sk-toggleable__label-arrow\">LinearRegression</label><div class=\"sk-toggleable__content\"><pre>LinearRegression()</pre></div></div></div></div></div>"
      ],
      "text/plain": [
       "LinearRegression()"
      ]
     },
     "execution_count": 118,
     "metadata": {},
     "output_type": "execute_result"
    }
   ],
   "source": [
    "#Fitting the data to a Linear Regression Model\n",
    "\n",
    "from sklearn.linear_model import LinearRegression\n",
    "\n",
    "#Make an instance\n",
    "\n",
    "linear = LinearRegression()\n",
    "\n",
    "#Fit the training data to the model\n",
    "\n",
    "linear.fit(X_train_transformed, y_train)\n",
    "\n",
    "#Check the output\n",
    "\n",
    "linear"
   ]
  },
  {
   "cell_type": "code",
   "execution_count": 119,
   "id": "12c2c4f8",
   "metadata": {},
   "outputs": [
    {
     "data": {
      "text/html": [
       "<style>#sk-container-id-7 {color: black;}#sk-container-id-7 pre{padding: 0;}#sk-container-id-7 div.sk-toggleable {background-color: white;}#sk-container-id-7 label.sk-toggleable__label {cursor: pointer;display: block;width: 100%;margin-bottom: 0;padding: 0.3em;box-sizing: border-box;text-align: center;}#sk-container-id-7 label.sk-toggleable__label-arrow:before {content: \"▸\";float: left;margin-right: 0.25em;color: #696969;}#sk-container-id-7 label.sk-toggleable__label-arrow:hover:before {color: black;}#sk-container-id-7 div.sk-estimator:hover label.sk-toggleable__label-arrow:before {color: black;}#sk-container-id-7 div.sk-toggleable__content {max-height: 0;max-width: 0;overflow: hidden;text-align: left;background-color: #f0f8ff;}#sk-container-id-7 div.sk-toggleable__content pre {margin: 0.2em;color: black;border-radius: 0.25em;background-color: #f0f8ff;}#sk-container-id-7 input.sk-toggleable__control:checked~div.sk-toggleable__content {max-height: 200px;max-width: 100%;overflow: auto;}#sk-container-id-7 input.sk-toggleable__control:checked~label.sk-toggleable__label-arrow:before {content: \"▾\";}#sk-container-id-7 div.sk-estimator input.sk-toggleable__control:checked~label.sk-toggleable__label {background-color: #d4ebff;}#sk-container-id-7 div.sk-label input.sk-toggleable__control:checked~label.sk-toggleable__label {background-color: #d4ebff;}#sk-container-id-7 input.sk-hidden--visually {border: 0;clip: rect(1px 1px 1px 1px);clip: rect(1px, 1px, 1px, 1px);height: 1px;margin: -1px;overflow: hidden;padding: 0;position: absolute;width: 1px;}#sk-container-id-7 div.sk-estimator {font-family: monospace;background-color: #f0f8ff;border: 1px dotted black;border-radius: 0.25em;box-sizing: border-box;margin-bottom: 0.5em;}#sk-container-id-7 div.sk-estimator:hover {background-color: #d4ebff;}#sk-container-id-7 div.sk-parallel-item::after {content: \"\";width: 100%;border-bottom: 1px solid gray;flex-grow: 1;}#sk-container-id-7 div.sk-label:hover label.sk-toggleable__label {background-color: #d4ebff;}#sk-container-id-7 div.sk-serial::before {content: \"\";position: absolute;border-left: 1px solid gray;box-sizing: border-box;top: 0;bottom: 0;left: 50%;z-index: 0;}#sk-container-id-7 div.sk-serial {display: flex;flex-direction: column;align-items: center;background-color: white;padding-right: 0.2em;padding-left: 0.2em;position: relative;}#sk-container-id-7 div.sk-item {position: relative;z-index: 1;}#sk-container-id-7 div.sk-parallel {display: flex;align-items: stretch;justify-content: center;background-color: white;position: relative;}#sk-container-id-7 div.sk-item::before, #sk-container-id-7 div.sk-parallel-item::before {content: \"\";position: absolute;border-left: 1px solid gray;box-sizing: border-box;top: 0;bottom: 0;left: 50%;z-index: -1;}#sk-container-id-7 div.sk-parallel-item {display: flex;flex-direction: column;z-index: 1;position: relative;background-color: white;}#sk-container-id-7 div.sk-parallel-item:first-child::after {align-self: flex-end;width: 50%;}#sk-container-id-7 div.sk-parallel-item:last-child::after {align-self: flex-start;width: 50%;}#sk-container-id-7 div.sk-parallel-item:only-child::after {width: 0;}#sk-container-id-7 div.sk-dashed-wrapped {border: 1px dashed gray;margin: 0 0.4em 0.5em 0.4em;box-sizing: border-box;padding-bottom: 0.4em;background-color: white;}#sk-container-id-7 div.sk-label label {font-family: monospace;font-weight: bold;display: inline-block;line-height: 1.2em;}#sk-container-id-7 div.sk-label-container {text-align: center;}#sk-container-id-7 div.sk-container {/* jupyter's `normalize.less` sets `[hidden] { display: none; }` but bootstrap.min.css set `[hidden] { display: none !important; }` so we also need the `!important` here to be able to override the default hidden behavior on the sphinx rendered scikit-learn.org. See: https://github.com/scikit-learn/scikit-learn/issues/21755 */display: inline-block !important;position: relative;}#sk-container-id-7 div.sk-text-repr-fallback {display: none;}</style><div id=\"sk-container-id-7\" class=\"sk-top-container\"><div class=\"sk-text-repr-fallback\"><pre>RandomForestRegressor(random_state=42)</pre><b>In a Jupyter environment, please rerun this cell to show the HTML representation or trust the notebook. <br />On GitHub, the HTML representation is unable to render, please try loading this page with nbviewer.org.</b></div><div class=\"sk-container\" hidden><div class=\"sk-item\"><div class=\"sk-estimator sk-toggleable\"><input class=\"sk-toggleable__control sk-hidden--visually\" id=\"sk-estimator-id-7\" type=\"checkbox\" checked><label for=\"sk-estimator-id-7\" class=\"sk-toggleable__label sk-toggleable__label-arrow\">RandomForestRegressor</label><div class=\"sk-toggleable__content\"><pre>RandomForestRegressor(random_state=42)</pre></div></div></div></div></div>"
      ],
      "text/plain": [
       "RandomForestRegressor(random_state=42)"
      ]
     },
     "execution_count": 119,
     "metadata": {},
     "output_type": "execute_result"
    }
   ],
   "source": [
    "#Fitting the data to a Random Forest Regressor\n",
    "\n",
    "from sklearn.ensemble import RandomForestRegressor\n",
    "\n",
    "#Make an instance\n",
    "\n",
    "forest = RandomForestRegressor(random_state = 42)\n",
    "\n",
    "#Fit the training data to the Regressor\n",
    "\n",
    "forest.fit(X_train_transformed, y_train)\n",
    "\n",
    "#Check the output\n",
    "\n",
    "forest"
   ]
  },
  {
   "cell_type": "code",
   "execution_count": 120,
   "id": "324efc7b",
   "metadata": {},
   "outputs": [
    {
     "data": {
      "text/html": [
       "<style>#sk-container-id-8 {color: black;}#sk-container-id-8 pre{padding: 0;}#sk-container-id-8 div.sk-toggleable {background-color: white;}#sk-container-id-8 label.sk-toggleable__label {cursor: pointer;display: block;width: 100%;margin-bottom: 0;padding: 0.3em;box-sizing: border-box;text-align: center;}#sk-container-id-8 label.sk-toggleable__label-arrow:before {content: \"▸\";float: left;margin-right: 0.25em;color: #696969;}#sk-container-id-8 label.sk-toggleable__label-arrow:hover:before {color: black;}#sk-container-id-8 div.sk-estimator:hover label.sk-toggleable__label-arrow:before {color: black;}#sk-container-id-8 div.sk-toggleable__content {max-height: 0;max-width: 0;overflow: hidden;text-align: left;background-color: #f0f8ff;}#sk-container-id-8 div.sk-toggleable__content pre {margin: 0.2em;color: black;border-radius: 0.25em;background-color: #f0f8ff;}#sk-container-id-8 input.sk-toggleable__control:checked~div.sk-toggleable__content {max-height: 200px;max-width: 100%;overflow: auto;}#sk-container-id-8 input.sk-toggleable__control:checked~label.sk-toggleable__label-arrow:before {content: \"▾\";}#sk-container-id-8 div.sk-estimator input.sk-toggleable__control:checked~label.sk-toggleable__label {background-color: #d4ebff;}#sk-container-id-8 div.sk-label input.sk-toggleable__control:checked~label.sk-toggleable__label {background-color: #d4ebff;}#sk-container-id-8 input.sk-hidden--visually {border: 0;clip: rect(1px 1px 1px 1px);clip: rect(1px, 1px, 1px, 1px);height: 1px;margin: -1px;overflow: hidden;padding: 0;position: absolute;width: 1px;}#sk-container-id-8 div.sk-estimator {font-family: monospace;background-color: #f0f8ff;border: 1px dotted black;border-radius: 0.25em;box-sizing: border-box;margin-bottom: 0.5em;}#sk-container-id-8 div.sk-estimator:hover {background-color: #d4ebff;}#sk-container-id-8 div.sk-parallel-item::after {content: \"\";width: 100%;border-bottom: 1px solid gray;flex-grow: 1;}#sk-container-id-8 div.sk-label:hover label.sk-toggleable__label {background-color: #d4ebff;}#sk-container-id-8 div.sk-serial::before {content: \"\";position: absolute;border-left: 1px solid gray;box-sizing: border-box;top: 0;bottom: 0;left: 50%;z-index: 0;}#sk-container-id-8 div.sk-serial {display: flex;flex-direction: column;align-items: center;background-color: white;padding-right: 0.2em;padding-left: 0.2em;position: relative;}#sk-container-id-8 div.sk-item {position: relative;z-index: 1;}#sk-container-id-8 div.sk-parallel {display: flex;align-items: stretch;justify-content: center;background-color: white;position: relative;}#sk-container-id-8 div.sk-item::before, #sk-container-id-8 div.sk-parallel-item::before {content: \"\";position: absolute;border-left: 1px solid gray;box-sizing: border-box;top: 0;bottom: 0;left: 50%;z-index: -1;}#sk-container-id-8 div.sk-parallel-item {display: flex;flex-direction: column;z-index: 1;position: relative;background-color: white;}#sk-container-id-8 div.sk-parallel-item:first-child::after {align-self: flex-end;width: 50%;}#sk-container-id-8 div.sk-parallel-item:last-child::after {align-self: flex-start;width: 50%;}#sk-container-id-8 div.sk-parallel-item:only-child::after {width: 0;}#sk-container-id-8 div.sk-dashed-wrapped {border: 1px dashed gray;margin: 0 0.4em 0.5em 0.4em;box-sizing: border-box;padding-bottom: 0.4em;background-color: white;}#sk-container-id-8 div.sk-label label {font-family: monospace;font-weight: bold;display: inline-block;line-height: 1.2em;}#sk-container-id-8 div.sk-label-container {text-align: center;}#sk-container-id-8 div.sk-container {/* jupyter's `normalize.less` sets `[hidden] { display: none; }` but bootstrap.min.css set `[hidden] { display: none !important; }` so we also need the `!important` here to be able to override the default hidden behavior on the sphinx rendered scikit-learn.org. See: https://github.com/scikit-learn/scikit-learn/issues/21755 */display: inline-block !important;position: relative;}#sk-container-id-8 div.sk-text-repr-fallback {display: none;}</style><div id=\"sk-container-id-8\" class=\"sk-top-container\"><div class=\"sk-text-repr-fallback\"><pre>GradientBoostingRegressor(random_state=42)</pre><b>In a Jupyter environment, please rerun this cell to show the HTML representation or trust the notebook. <br />On GitHub, the HTML representation is unable to render, please try loading this page with nbviewer.org.</b></div><div class=\"sk-container\" hidden><div class=\"sk-item\"><div class=\"sk-estimator sk-toggleable\"><input class=\"sk-toggleable__control sk-hidden--visually\" id=\"sk-estimator-id-8\" type=\"checkbox\" checked><label for=\"sk-estimator-id-8\" class=\"sk-toggleable__label sk-toggleable__label-arrow\">GradientBoostingRegressor</label><div class=\"sk-toggleable__content\"><pre>GradientBoostingRegressor(random_state=42)</pre></div></div></div></div></div>"
      ],
      "text/plain": [
       "GradientBoostingRegressor(random_state=42)"
      ]
     },
     "execution_count": 120,
     "metadata": {},
     "output_type": "execute_result"
    }
   ],
   "source": [
    "#Fitting the data to a Gradient Boosting Regressor\n",
    "\n",
    "from sklearn.ensemble import GradientBoostingRegressor\n",
    "\n",
    "#Make an instance \n",
    "\n",
    "gradient = GradientBoostingRegressor(random_state = 42)\n",
    "\n",
    "#Fit the training data to the Regressor\n",
    "\n",
    "gradient.fit(X_train_transformed, y_train)\n",
    "\n",
    "#Checking the output\n",
    "\n",
    "gradient"
   ]
  },
  {
   "cell_type": "markdown",
   "id": "56120595",
   "metadata": {},
   "source": [
    "### Model Performance\n",
    "\n",
    "I will be using cross-validation to check the performance of each model."
   ]
  },
  {
   "cell_type": "code",
   "execution_count": 121,
   "id": "cc2ba6a2",
   "metadata": {},
   "outputs": [
    {
     "data": {
      "text/plain": [
       "array([4.00626220e+13, 3.85636765e+13, 8.40607980e+12, 1.62427844e+11,\n",
       "       2.36327514e+13, 6.84080397e+12, 4.16224882e+13, 3.13851932e+13,\n",
       "       6.43262633e+11, 8.66928903e+12])"
      ]
     },
     "execution_count": 121,
     "metadata": {},
     "output_type": "execute_result"
    }
   ],
   "source": [
    "from sklearn.model_selection import cross_val_score\n",
    "\n",
    "#Cross validation for Linear Regression Model \n",
    "\n",
    "linear_rmse = -cross_val_score(linear, X_train_transformed, y_train, cv = 10,\n",
    "                               scoring = 'neg_root_mean_squared_error')\n",
    "\n",
    "#Check the output\n",
    "\n",
    "linear_rmse"
   ]
  },
  {
   "cell_type": "code",
   "execution_count": 122,
   "id": "ef2ac622",
   "metadata": {},
   "outputs": [
    {
     "data": {
      "text/plain": [
       "array([0.86467193, 1.39414783, 1.75816498, 1.26573857, 1.01450192,\n",
       "       1.05475958, 1.20388625, 1.06062559, 1.1180473 , 1.56934042])"
      ]
     },
     "execution_count": 122,
     "metadata": {},
     "output_type": "execute_result"
    }
   ],
   "source": [
    "#Cross validation for Random Forest Regressor\n",
    "\n",
    "forest_rmse = -cross_val_score(forest, X_train_transformed, y_train, cv = 10,\n",
    "                                scoring = 'neg_root_mean_squared_error')\n",
    "\n",
    "#Check the output\n",
    "\n",
    "forest_rmse"
   ]
  },
  {
   "cell_type": "code",
   "execution_count": 123,
   "id": "bff190d6",
   "metadata": {},
   "outputs": [
    {
     "data": {
      "text/plain": [
       "array([0.75181298, 1.45134284, 1.75702124, 1.2441558 , 0.99454023,\n",
       "       0.94207365, 1.27873081, 0.90531902, 1.079582  , 1.61101738])"
      ]
     },
     "execution_count": 123,
     "metadata": {},
     "output_type": "execute_result"
    }
   ],
   "source": [
    "#Cross Validation for Gradient Boosting Regressor\n",
    "\n",
    "gradient_rmse = -cross_val_score(gradient, X_train_transformed, y_train, cv = 10,\n",
    "                                scoring = 'neg_root_mean_squared_error')\n",
    "\n",
    "#Check the output\n",
    "\n",
    "gradient_rmse"
   ]
  },
  {
   "cell_type": "markdown",
   "id": "4f874841",
   "metadata": {},
   "source": [
    "### Model Comparison\n",
    "\n",
    "Here, we will check the stats of each model above to examine the stats of each."
   ]
  },
  {
   "cell_type": "code",
   "execution_count": 124,
   "id": "904cfcfd",
   "metadata": {},
   "outputs": [
    {
     "data": {
      "text/plain": [
       "count    1.000000e+01\n",
       "mean     1.999886e+13\n",
       "std      1.687092e+13\n",
       "min      1.624278e+11\n",
       "25%      7.232123e+12\n",
       "50%      1.615102e+13\n",
       "75%      3.676906e+13\n",
       "max      4.162249e+13\n",
       "dtype: float64"
      ]
     },
     "execution_count": 124,
     "metadata": {},
     "output_type": "execute_result"
    }
   ],
   "source": [
    "pd.Series(linear_rmse).describe()"
   ]
  },
  {
   "cell_type": "code",
   "execution_count": 125,
   "id": "497319b7",
   "metadata": {},
   "outputs": [
    {
     "data": {
      "text/plain": [
       "count    10.000000\n",
       "mean      1.230388\n",
       "std       0.273830\n",
       "min       0.864672\n",
       "25%       1.056226\n",
       "50%       1.160967\n",
       "75%       1.362046\n",
       "max       1.758165\n",
       "dtype: float64"
      ]
     },
     "execution_count": 125,
     "metadata": {},
     "output_type": "execute_result"
    }
   ],
   "source": [
    "pd.Series(forest_rmse).describe()"
   ]
  },
  {
   "cell_type": "code",
   "execution_count": 126,
   "id": "87fc1371",
   "metadata": {},
   "outputs": [
    {
     "data": {
      "text/plain": [
       "count    10.000000\n",
       "mean      1.201560\n",
       "std       0.326846\n",
       "min       0.751813\n",
       "25%       0.955190\n",
       "50%       1.161869\n",
       "75%       1.408190\n",
       "max       1.757021\n",
       "dtype: float64"
      ]
     },
     "execution_count": 126,
     "metadata": {},
     "output_type": "execute_result"
    }
   ],
   "source": [
    "pd.Series(gradient_rmse).describe()"
   ]
  },
  {
   "cell_type": "markdown",
   "id": "05a8efda",
   "metadata": {},
   "source": [
    "## Fine Tuning\n",
    "\n",
    "Using a Grid Search to fine tune my hyperparameters. I chose the Random Forest Regressor model."
   ]
  },
  {
   "cell_type": "code",
   "execution_count": 127,
   "id": "fcfad22d",
   "metadata": {},
   "outputs": [
    {
     "name": "stdout",
     "output_type": "stream",
     "text": [
      "Fitting 10 folds for each of 81 candidates, totalling 810 fits\n",
      "The best parameters are: {'max_depth': None, 'min_samples_leaf': 1, 'min_samples_split': 5, 'n_estimators': 150}\n"
     ]
    }
   ],
   "source": [
    "from sklearn.model_selection import GridSearchCV\n",
    "\n",
    "#Create a dictionary for the hyperparameters. \n",
    "\n",
    "forest_param_grid = {\n",
    "    'n_estimators': [50, 100, 150],\n",
    "    'max_depth': [None, 10, 20],\n",
    "    'min_samples_split': [2, 5, 10],\n",
    "    'min_samples_leaf': [1, 2, 4]}\n",
    "\n",
    "#Initiate the model\n",
    "\n",
    "Forest_model = RandomForestRegressor(random_state = 42)\n",
    "\n",
    "#Initiate the Grid Search\n",
    "\n",
    "grid = GridSearchCV(Forest_model, forest_param_grid, verbose = 1, cv = 10,\n",
    "                   scoring = 'neg_mean_squared_error', n_jobs = -1)\n",
    "\n",
    "#fit the Grid Search and keep the best parameters\n",
    "\n",
    "grid.fit(X_train_transformed, y_train)\n",
    "print(\"The best parameters are:\" , grid.best_params_)\n",
    "\n",
    "#Saving the best model from the Grid Search\n",
    "\n",
    "best_forest = grid.best_estimator_"
   ]
  },
  {
   "cell_type": "markdown",
   "id": "dad799a5",
   "metadata": {},
   "source": [
    "### Transform Test Data "
   ]
  },
  {
   "cell_type": "code",
   "execution_count": 128,
   "id": "a4baeb67",
   "metadata": {},
   "outputs": [
    {
     "name": "stderr",
     "output_type": "stream",
     "text": [
      "D:\\Anaconda\\lib\\site-packages\\sklearn\\preprocessing\\_encoders.py:228: UserWarning: Found unknown categories in columns [0] during transform. These unknown categories will be encoded as all zeros\n",
      "  warnings.warn(\n"
     ]
    },
    {
     "data": {
      "text/plain": [
       "array([[-0.73569783, -0.50605016,  0.40585217, ...,  0.        ,\n",
       "         0.        ,  0.        ],\n",
       "       [ 0.31288168,  0.98219517,  1.09813708, ...,  0.        ,\n",
       "         0.        ,  0.        ],\n",
       "       [-0.78125777, -0.33338081,  0.10765104, ...,  0.        ,\n",
       "         0.        ,  0.        ],\n",
       "       ...,\n",
       "       [-0.48827232,  1.42209089,  1.14668145, ...,  0.        ,\n",
       "         0.        ,  0.        ],\n",
       "       [-0.93616156,  0.24218368,  1.01853637, ...,  0.        ,\n",
       "         0.        ,  0.        ],\n",
       "       [-1.23755807, -0.26143525, -1.43883385, ...,  1.        ,\n",
       "         0.        ,  0.        ]])"
      ]
     },
     "execution_count": 128,
     "metadata": {},
     "output_type": "execute_result"
    }
   ],
   "source": [
    "X_test_transformed = preprocessor.transform(X_test)\n",
    "X_test_transformed"
   ]
  },
  {
   "cell_type": "markdown",
   "id": "a8cd8d99",
   "metadata": {},
   "source": [
    "### Predictions "
   ]
  },
  {
   "cell_type": "code",
   "execution_count": 129,
   "id": "b9e28fd2",
   "metadata": {},
   "outputs": [
    {
     "data": {
      "text/plain": [
       "array([48.60126066, 50.75392631, 50.12748488, 49.57698681, 50.82405563,\n",
       "       49.91330942, 49.83920336, 50.91390134, 51.41825238, 50.92380987,\n",
       "       49.65568807, 48.37226988, 49.96522918, 50.89211148, 51.11860845,\n",
       "       49.07877925, 49.36201307, 49.10405502, 48.22292377, 49.2151462 ,\n",
       "       50.03264509, 50.50244187, 50.3076873 , 50.84901921, 48.49198606,\n",
       "       50.43568252, 49.23543932, 47.67700394, 50.67795616, 50.30782178,\n",
       "       51.33108601, 54.00278495, 50.93992169, 50.8374604 , 50.87012814,\n",
       "       49.87321919, 50.14319399, 50.07687804, 50.81078318, 50.48548344,\n",
       "       50.83064559, 51.07213423, 49.74815528, 51.48466099, 51.11729189,\n",
       "       50.8967186 , 49.56687971, 49.41250059, 49.12459021, 48.86861675])"
      ]
     },
     "execution_count": 129,
     "metadata": {},
     "output_type": "execute_result"
    }
   ],
   "source": [
    "#Use the test set to predict Win %\n",
    "\n",
    "predictions = best_forest.predict(X_test_transformed)\n",
    "predictions"
   ]
  },
  {
   "cell_type": "code",
   "execution_count": 131,
   "id": "b3fdcc85",
   "metadata": {},
   "outputs": [
    {
     "data": {
      "text/plain": [
       "1.210679430597733"
      ]
     },
     "execution_count": 131,
     "metadata": {},
     "output_type": "execute_result"
    }
   ],
   "source": [
    "#Checking the performance of my predictions \n",
    "\n",
    "from sklearn.metrics import mean_squared_error\n",
    "\n",
    "prediction_check = np.sqrt(mean_squared_error(y_test, predictions))\n",
    "prediction_check"
   ]
  },
  {
   "cell_type": "markdown",
   "id": "ea447dbd",
   "metadata": {},
   "source": [
    "# Conclusion\n",
    "\n",
    "The RMSE of 1.21 is a very good number. The lower the number, the better as 0 would indicate perfect predictions. \n",
    "\n",
    "The biggest factors are Trend and KDA which are not much of a champion issue but a player issue. KDA is dependent on how well a player uses the champion and performs during the matches. A higher KDA produces a higher Win % which can be seen in the Scatterplot above. "
   ]
  }
 ],
 "metadata": {
  "kernelspec": {
   "display_name": "Python 3 (ipykernel)",
   "language": "python",
   "name": "python3"
  },
  "language_info": {
   "codemirror_mode": {
    "name": "ipython",
    "version": 3
   },
   "file_extension": ".py",
   "mimetype": "text/x-python",
   "name": "python",
   "nbconvert_exporter": "python",
   "pygments_lexer": "ipython3",
   "version": "3.10.9"
  }
 },
 "nbformat": 4,
 "nbformat_minor": 5
}
